{
 "cells": [
  {
   "cell_type": "code",
   "execution_count": 1,
   "id": "dd2dcbf4-9cc1-4436-a512-75f334a94f00",
   "metadata": {},
   "outputs": [
    {
     "data": {
      "text/plain": [
       "'\\nPerform the following operations using Python on ForestFires Dataset.  \\na. Create data subsets by making classes for amount of region affected.(e.g. \\nNotAffected, Partially affected, Mostlyaffected).  \\nb. Merge two subsets  \\nc. Sort Data using Temperature, wind and area.  \\nd. Transposing Data  \\ne. Melting Data to long format  \\nf. Casting data to wide format\\n'"
      ]
     },
     "execution_count": 1,
     "metadata": {},
     "output_type": "execute_result"
    }
   ],
   "source": [
    "'''\n",
    "Perform the following operations using Python on ForestFires Dataset.  \n",
    "a. Create data subsets by making classes for amount of region affected.(e.g. \n",
    "NotAffected, Partially affected, Mostlyaffected).  \n",
    "b. Merge two subsets  \n",
    "c. Sort Data using Temperature, wind and area.  \n",
    "d. Transposing Data  \n",
    "e. Melting Data to long format  \n",
    "f. Casting data to wide format\n",
    "'''"
   ]
  },
  {
   "cell_type": "code",
   "execution_count": 2,
   "id": "dda00fcf-2ca7-4276-a47b-2c414d2d5f53",
   "metadata": {},
   "outputs": [],
   "source": [
    "import pandas as pd"
   ]
  },
  {
   "cell_type": "code",
   "execution_count": 3,
   "id": "a339ea78-6146-4026-9392-ad19662b4179",
   "metadata": {},
   "outputs": [],
   "source": [
    "data = pd.read_csv(r'DSBDALExam DataSets\\forestfires\\forestfires.csv')"
   ]
  },
  {
   "cell_type": "code",
   "execution_count": 4,
   "id": "e9150411-4573-4a78-a7ff-a517d1762f0e",
   "metadata": {},
   "outputs": [
    {
     "data": {
      "text/html": [
       "<div>\n",
       "<style scoped>\n",
       "    .dataframe tbody tr th:only-of-type {\n",
       "        vertical-align: middle;\n",
       "    }\n",
       "\n",
       "    .dataframe tbody tr th {\n",
       "        vertical-align: top;\n",
       "    }\n",
       "\n",
       "    .dataframe thead th {\n",
       "        text-align: right;\n",
       "    }\n",
       "</style>\n",
       "<table border=\"1\" class=\"dataframe\">\n",
       "  <thead>\n",
       "    <tr style=\"text-align: right;\">\n",
       "      <th></th>\n",
       "      <th>X</th>\n",
       "      <th>Y</th>\n",
       "      <th>month</th>\n",
       "      <th>day</th>\n",
       "      <th>FFMC</th>\n",
       "      <th>DMC</th>\n",
       "      <th>DC</th>\n",
       "      <th>ISI</th>\n",
       "      <th>temp</th>\n",
       "      <th>RH</th>\n",
       "      <th>wind</th>\n",
       "      <th>rain</th>\n",
       "      <th>area</th>\n",
       "    </tr>\n",
       "  </thead>\n",
       "  <tbody>\n",
       "    <tr>\n",
       "      <th>0</th>\n",
       "      <td>7</td>\n",
       "      <td>5</td>\n",
       "      <td>mar</td>\n",
       "      <td>fri</td>\n",
       "      <td>86.2</td>\n",
       "      <td>26.2</td>\n",
       "      <td>94.3</td>\n",
       "      <td>5.1</td>\n",
       "      <td>8.2</td>\n",
       "      <td>51</td>\n",
       "      <td>6.7</td>\n",
       "      <td>0.0</td>\n",
       "      <td>0.0</td>\n",
       "    </tr>\n",
       "    <tr>\n",
       "      <th>1</th>\n",
       "      <td>7</td>\n",
       "      <td>4</td>\n",
       "      <td>oct</td>\n",
       "      <td>tue</td>\n",
       "      <td>90.6</td>\n",
       "      <td>35.4</td>\n",
       "      <td>669.1</td>\n",
       "      <td>6.7</td>\n",
       "      <td>18.0</td>\n",
       "      <td>33</td>\n",
       "      <td>0.9</td>\n",
       "      <td>0.0</td>\n",
       "      <td>0.0</td>\n",
       "    </tr>\n",
       "    <tr>\n",
       "      <th>2</th>\n",
       "      <td>7</td>\n",
       "      <td>4</td>\n",
       "      <td>oct</td>\n",
       "      <td>sat</td>\n",
       "      <td>90.6</td>\n",
       "      <td>43.7</td>\n",
       "      <td>686.9</td>\n",
       "      <td>6.7</td>\n",
       "      <td>14.6</td>\n",
       "      <td>33</td>\n",
       "      <td>1.3</td>\n",
       "      <td>0.0</td>\n",
       "      <td>0.0</td>\n",
       "    </tr>\n",
       "    <tr>\n",
       "      <th>3</th>\n",
       "      <td>8</td>\n",
       "      <td>6</td>\n",
       "      <td>mar</td>\n",
       "      <td>fri</td>\n",
       "      <td>91.7</td>\n",
       "      <td>33.3</td>\n",
       "      <td>77.5</td>\n",
       "      <td>9.0</td>\n",
       "      <td>8.3</td>\n",
       "      <td>97</td>\n",
       "      <td>4.0</td>\n",
       "      <td>0.2</td>\n",
       "      <td>0.0</td>\n",
       "    </tr>\n",
       "    <tr>\n",
       "      <th>4</th>\n",
       "      <td>8</td>\n",
       "      <td>6</td>\n",
       "      <td>mar</td>\n",
       "      <td>sun</td>\n",
       "      <td>89.3</td>\n",
       "      <td>51.3</td>\n",
       "      <td>102.2</td>\n",
       "      <td>9.6</td>\n",
       "      <td>11.4</td>\n",
       "      <td>99</td>\n",
       "      <td>1.8</td>\n",
       "      <td>0.0</td>\n",
       "      <td>0.0</td>\n",
       "    </tr>\n",
       "  </tbody>\n",
       "</table>\n",
       "</div>"
      ],
      "text/plain": [
       "   X  Y month  day  FFMC   DMC     DC  ISI  temp  RH  wind  rain  area\n",
       "0  7  5   mar  fri  86.2  26.2   94.3  5.1   8.2  51   6.7   0.0   0.0\n",
       "1  7  4   oct  tue  90.6  35.4  669.1  6.7  18.0  33   0.9   0.0   0.0\n",
       "2  7  4   oct  sat  90.6  43.7  686.9  6.7  14.6  33   1.3   0.0   0.0\n",
       "3  8  6   mar  fri  91.7  33.3   77.5  9.0   8.3  97   4.0   0.2   0.0\n",
       "4  8  6   mar  sun  89.3  51.3  102.2  9.6  11.4  99   1.8   0.0   0.0"
      ]
     },
     "execution_count": 4,
     "metadata": {},
     "output_type": "execute_result"
    }
   ],
   "source": [
    "data.head()"
   ]
  },
  {
   "cell_type": "code",
   "execution_count": 5,
   "id": "f71c0cfa-6d73-4712-ae53-5059fec95373",
   "metadata": {},
   "outputs": [
    {
     "data": {
      "text/plain": [
       "Index(['X', 'Y', 'month', 'day', 'FFMC', 'DMC', 'DC', 'ISI', 'temp', 'RH',\n",
       "       'wind', 'rain', 'area'],\n",
       "      dtype='object')"
      ]
     },
     "execution_count": 5,
     "metadata": {},
     "output_type": "execute_result"
    }
   ],
   "source": [
    "data.columns"
   ]
  },
  {
   "cell_type": "code",
   "execution_count": 6,
   "id": "a5c4f06f-8d0a-4e50-870f-ffa0bc436a26",
   "metadata": {},
   "outputs": [
    {
     "name": "stdout",
     "output_type": "stream",
     "text": [
      "area\n",
      "0.00      247\n",
      "1.94        3\n",
      "0.52        2\n",
      "3.71        2\n",
      "0.68        2\n",
      "         ... \n",
      "105.66      1\n",
      "154.88      1\n",
      "196.48      1\n",
      "200.94      1\n",
      "11.16       1\n",
      "Name: count, Length: 251, dtype: int64\n"
     ]
    }
   ],
   "source": [
    "print(data['area'].value_counts())"
   ]
  },
  {
   "cell_type": "code",
   "execution_count": 7,
   "id": "09a65331-9527-4484-af15-063f8137811c",
   "metadata": {},
   "outputs": [],
   "source": [
    "# Create a new columm based on area\n",
    "def classify_area(area):\n",
    "    if area == 0:\n",
    "        return 'NotAffected'\n",
    "    elif area <= 5:\n",
    "        return 'PartiallyAffected'\n",
    "    else:\n",
    "        return 'MostlyAffected'\n",
    "\n",
    "data['region_status'] = data['area'].apply(classify_area)"
   ]
  },
  {
   "cell_type": "code",
   "execution_count": 9,
   "id": "4c90127b-ca67-4935-986a-5ddae3e59226",
   "metadata": {},
   "outputs": [
    {
     "name": "stdout",
     "output_type": "stream",
     "text": [
      "(247, 14)\n",
      "(119, 14)\n",
      "(151, 14)\n"
     ]
    }
   ],
   "source": [
    "# Create subsets\n",
    "not_affected = data[data['region_status'] == 'NotAffected']\n",
    "partially_affected = data[data['region_status'] == 'PartiallyAffected']\n",
    "mostly_affected = data[data['region_status'] == 'MostlyAffected']\n",
    "\n",
    "print(not_affected.shape)\n",
    "print(partially_affected.shape)\n",
    "print(mostly_affected.shape)"
   ]
  },
  {
   "cell_type": "code",
   "execution_count": 10,
   "id": "fc3e52f4-b26c-4a9a-8e53-230db06cf1ba",
   "metadata": {},
   "outputs": [
    {
     "name": "stdout",
     "output_type": "stream",
     "text": [
      "(366, 14)\n"
     ]
    }
   ],
   "source": [
    "# Merge two subsetsa\n",
    "merged_data = pd.concat([not_affected, partially_affected])\n",
    "print(merged_data.shape)"
   ]
  },
  {
   "cell_type": "code",
   "execution_count": 13,
   "id": "f12847a5-56b5-4b4a-8037-58f24f45856d",
   "metadata": {},
   "outputs": [
    {
     "name": "stdout",
     "output_type": "stream",
     "text": [
      "     temp  wind  area\n",
      "280   2.2   4.9  9.27\n",
      "282   4.2   4.0  0.00\n",
      "465   4.6   0.9  6.84\n",
      "463   4.6   6.3  5.39\n",
      "279   4.6   8.5  9.77\n"
     ]
    }
   ],
   "source": [
    "# Sort Data using Temperature, wind and area\n",
    "sorted_data = data.sort_values(by=['temp', 'wind', 'area'])\n",
    "print(sorted_data[['temp', 'wind', 'area']].head())"
   ]
  },
  {
   "cell_type": "code",
   "execution_count": 14,
   "id": "0cfe537c-fc1e-4a96-8cdc-c67702e3de32",
   "metadata": {},
   "outputs": [
    {
     "name": "stdout",
     "output_type": "stream",
     "text": [
      "        0     1     2     3     4     5     6     7     8     9    ...   507  \\\n",
      "X         7     7     7     8     8     8     8     8     8     7  ...     2   \n",
      "Y         5     4     4     6     6     6     6     6     6     5  ...     4   \n",
      "month   mar   oct   oct   mar   mar   aug   aug   aug   sep   sep  ...   aug   \n",
      "day     fri   tue   sat   fri   sun   sun   mon   mon   tue   sat  ...   fri   \n",
      "FFMC   86.2  90.6  90.6  91.7  89.3  92.3  92.3  91.5  91.0  92.5  ...  91.0   \n",
      "\n",
      "        508   509   510   511   512   513   514   515   516  \n",
      "X         1     5     6     8     4     2     7     1     6  \n",
      "Y         2     4     5     6     3     4     4     4     3  \n",
      "month   aug   aug   aug   aug   aug   aug   aug   aug   nov  \n",
      "day     fri   fri   fri   sun   sun   sun   sun   sat   tue  \n",
      "FFMC   91.0  91.0  91.0  81.6  81.6  81.6  81.6  94.4  79.5  \n",
      "\n",
      "[5 rows x 517 columns]\n"
     ]
    }
   ],
   "source": [
    "# Transposing Data\n",
    "transposed_data = data.transpose()\n",
    "print(transposed_data.head())"
   ]
  },
  {
   "cell_type": "code",
   "execution_count": 15,
   "id": "cfec5a91-13ff-4803-ba9d-98d21f913a5f",
   "metadata": {},
   "outputs": [
    {
     "name": "stdout",
     "output_type": "stream",
     "text": [
      "   X  Y month  day Attribute  Value\n",
      "0  7  5   mar  fri      temp    8.2\n",
      "1  7  4   oct  tue      temp   18.0\n",
      "2  7  4   oct  sat      temp   14.6\n",
      "3  8  6   mar  fri      temp    8.3\n",
      "4  8  6   mar  sun      temp   11.4\n"
     ]
    }
   ],
   "source": [
    "# Melting Data to Long Format\n",
    "melted_data = pd.melt(data,\n",
    "                      id_vars=['X', 'Y', 'month', 'day'],\n",
    "                      value_vars=['temp', 'RH', 'wind', 'rain', 'area'],\n",
    "                      var_name='Attribute',\n",
    "                      value_name='Value')\n",
    "print(melted_data.head())"
   ]
  },
  {
   "cell_type": "code",
   "execution_count": 16,
   "id": "15c410f2-f51e-4fc7-bd1d-9341475f3965",
   "metadata": {},
   "outputs": [
    {
     "name": "stdout",
     "output_type": "stream",
     "text": [
      "Attribute  X  Y month  day    RH  area  rain  temp  wind\n",
      "0          1  2   aug  fri  66.0   0.0   0.0  14.7   2.7\n",
      "1          1  2   aug  sat  32.0   0.0   0.0  25.9   3.1\n",
      "2          1  2   aug  sun  39.0   0.0   0.0  19.5   6.3\n",
      "3          1  2   aug  thu  45.0   0.0   0.0  20.2   3.6\n",
      "4          1  2   aug  tue  19.0   0.0   0.0  21.6   6.7\n"
     ]
    }
   ],
   "source": [
    "# Casting Data to Wide Format\n",
    "wide_data = melted_data.pivot_table(index=['X', 'Y', 'month', 'day'],\n",
    "                                    columns='Attribute',\n",
    "                                    values='Value',\n",
    "                                    aggfunc='first').reset_index()\n",
    "print(wide_data.head())"
   ]
  }
 ],
 "metadata": {
  "kernelspec": {
   "display_name": "Python 3 (ipykernel)",
   "language": "python",
   "name": "python3"
  },
  "language_info": {
   "codemirror_mode": {
    "name": "ipython",
    "version": 3
   },
   "file_extension": ".py",
   "mimetype": "text/x-python",
   "name": "python",
   "nbconvert_exporter": "python",
   "pygments_lexer": "ipython3",
   "version": "3.9.10"
  }
 },
 "nbformat": 4,
 "nbformat_minor": 5
}
