{
 "cells": [
  {
   "cell_type": "code",
   "execution_count": 1,
   "id": "881e250a-635a-4d97-b3a8-3e16839da644",
   "metadata": {},
   "outputs": [
    {
     "data": {
      "text/plain": [
       "'\\nPerform the following operations using Python on the Iris data sets  \\ng. Create data subsets for different species  \\nh. Merge two subsets  \\ni. Sort Data Petal Length  \\nj. Transposing Data  \\nk. Melting Data to long format  \\nl. Casting data to wide format \\n'"
      ]
     },
     "execution_count": 1,
     "metadata": {},
     "output_type": "execute_result"
    }
   ],
   "source": [
    "'''\n",
    "Perform the following operations using Python on the Iris data sets  \n",
    "g. Create data subsets for different species  \n",
    "h. Merge two subsets  \n",
    "i. Sort Data Petal Length  \n",
    "j. Transposing Data  \n",
    "k. Melting Data to long format  \n",
    "l. Casting data to wide format \n",
    "'''"
   ]
  },
  {
   "cell_type": "code",
   "execution_count": 2,
   "id": "8ac9a750-986e-46d8-9166-cc36aad2dff2",
   "metadata": {},
   "outputs": [],
   "source": [
    "import pandas as pd"
   ]
  },
  {
   "cell_type": "code",
   "execution_count": 3,
   "id": "077f04f2-98e2-46e0-985d-a67655f0a79a",
   "metadata": {},
   "outputs": [],
   "source": [
    "data = pd.read_csv('DSBDALExam DataSets\\Iris\\Iris.csv')"
   ]
  },
  {
   "cell_type": "code",
   "execution_count": 4,
   "id": "bc5837e4-bbd1-4709-9f72-0a99eb839f4b",
   "metadata": {},
   "outputs": [
    {
     "data": {
      "text/html": [
       "<div>\n",
       "<style scoped>\n",
       "    .dataframe tbody tr th:only-of-type {\n",
       "        vertical-align: middle;\n",
       "    }\n",
       "\n",
       "    .dataframe tbody tr th {\n",
       "        vertical-align: top;\n",
       "    }\n",
       "\n",
       "    .dataframe thead th {\n",
       "        text-align: right;\n",
       "    }\n",
       "</style>\n",
       "<table border=\"1\" class=\"dataframe\">\n",
       "  <thead>\n",
       "    <tr style=\"text-align: right;\">\n",
       "      <th></th>\n",
       "      <th>5.1</th>\n",
       "      <th>3.5</th>\n",
       "      <th>1.4</th>\n",
       "      <th>0.2</th>\n",
       "      <th>Iris-setosa</th>\n",
       "    </tr>\n",
       "  </thead>\n",
       "  <tbody>\n",
       "    <tr>\n",
       "      <th>0</th>\n",
       "      <td>4.9</td>\n",
       "      <td>3.0</td>\n",
       "      <td>1.4</td>\n",
       "      <td>0.2</td>\n",
       "      <td>Iris-setosa</td>\n",
       "    </tr>\n",
       "    <tr>\n",
       "      <th>1</th>\n",
       "      <td>4.7</td>\n",
       "      <td>3.2</td>\n",
       "      <td>1.3</td>\n",
       "      <td>0.2</td>\n",
       "      <td>Iris-setosa</td>\n",
       "    </tr>\n",
       "    <tr>\n",
       "      <th>2</th>\n",
       "      <td>4.6</td>\n",
       "      <td>3.1</td>\n",
       "      <td>1.5</td>\n",
       "      <td>0.2</td>\n",
       "      <td>Iris-setosa</td>\n",
       "    </tr>\n",
       "    <tr>\n",
       "      <th>3</th>\n",
       "      <td>5.0</td>\n",
       "      <td>3.6</td>\n",
       "      <td>1.4</td>\n",
       "      <td>0.2</td>\n",
       "      <td>Iris-setosa</td>\n",
       "    </tr>\n",
       "    <tr>\n",
       "      <th>4</th>\n",
       "      <td>5.4</td>\n",
       "      <td>3.9</td>\n",
       "      <td>1.7</td>\n",
       "      <td>0.4</td>\n",
       "      <td>Iris-setosa</td>\n",
       "    </tr>\n",
       "  </tbody>\n",
       "</table>\n",
       "</div>"
      ],
      "text/plain": [
       "   5.1  3.5  1.4  0.2  Iris-setosa\n",
       "0  4.9  3.0  1.4  0.2  Iris-setosa\n",
       "1  4.7  3.2  1.3  0.2  Iris-setosa\n",
       "2  4.6  3.1  1.5  0.2  Iris-setosa\n",
       "3  5.0  3.6  1.4  0.2  Iris-setosa\n",
       "4  5.4  3.9  1.7  0.4  Iris-setosa"
      ]
     },
     "execution_count": 4,
     "metadata": {},
     "output_type": "execute_result"
    }
   ],
   "source": [
    "data.head()"
   ]
  },
  {
   "cell_type": "code",
   "execution_count": 5,
   "id": "68f1b524-87fc-41b7-a2c6-af65eb05256b",
   "metadata": {},
   "outputs": [],
   "source": [
    "# Rename columns properly\n",
    "data.columns = ['SepalLength', 'SepalWidth', 'PetalLength', 'PetalWidth', 'Species']"
   ]
  },
  {
   "cell_type": "code",
   "execution_count": 6,
   "id": "649d5b35-7210-4886-ba13-4debeecac90b",
   "metadata": {},
   "outputs": [
    {
     "data": {
      "text/html": [
       "<div>\n",
       "<style scoped>\n",
       "    .dataframe tbody tr th:only-of-type {\n",
       "        vertical-align: middle;\n",
       "    }\n",
       "\n",
       "    .dataframe tbody tr th {\n",
       "        vertical-align: top;\n",
       "    }\n",
       "\n",
       "    .dataframe thead th {\n",
       "        text-align: right;\n",
       "    }\n",
       "</style>\n",
       "<table border=\"1\" class=\"dataframe\">\n",
       "  <thead>\n",
       "    <tr style=\"text-align: right;\">\n",
       "      <th></th>\n",
       "      <th>SepalLength</th>\n",
       "      <th>SepalWidth</th>\n",
       "      <th>PetalLength</th>\n",
       "      <th>PetalWidth</th>\n",
       "      <th>Species</th>\n",
       "    </tr>\n",
       "  </thead>\n",
       "  <tbody>\n",
       "    <tr>\n",
       "      <th>0</th>\n",
       "      <td>4.9</td>\n",
       "      <td>3.0</td>\n",
       "      <td>1.4</td>\n",
       "      <td>0.2</td>\n",
       "      <td>Iris-setosa</td>\n",
       "    </tr>\n",
       "    <tr>\n",
       "      <th>1</th>\n",
       "      <td>4.7</td>\n",
       "      <td>3.2</td>\n",
       "      <td>1.3</td>\n",
       "      <td>0.2</td>\n",
       "      <td>Iris-setosa</td>\n",
       "    </tr>\n",
       "    <tr>\n",
       "      <th>2</th>\n",
       "      <td>4.6</td>\n",
       "      <td>3.1</td>\n",
       "      <td>1.5</td>\n",
       "      <td>0.2</td>\n",
       "      <td>Iris-setosa</td>\n",
       "    </tr>\n",
       "    <tr>\n",
       "      <th>3</th>\n",
       "      <td>5.0</td>\n",
       "      <td>3.6</td>\n",
       "      <td>1.4</td>\n",
       "      <td>0.2</td>\n",
       "      <td>Iris-setosa</td>\n",
       "    </tr>\n",
       "    <tr>\n",
       "      <th>4</th>\n",
       "      <td>5.4</td>\n",
       "      <td>3.9</td>\n",
       "      <td>1.7</td>\n",
       "      <td>0.4</td>\n",
       "      <td>Iris-setosa</td>\n",
       "    </tr>\n",
       "  </tbody>\n",
       "</table>\n",
       "</div>"
      ],
      "text/plain": [
       "   SepalLength  SepalWidth  PetalLength  PetalWidth      Species\n",
       "0          4.9         3.0          1.4         0.2  Iris-setosa\n",
       "1          4.7         3.2          1.3         0.2  Iris-setosa\n",
       "2          4.6         3.1          1.5         0.2  Iris-setosa\n",
       "3          5.0         3.6          1.4         0.2  Iris-setosa\n",
       "4          5.4         3.9          1.7         0.4  Iris-setosa"
      ]
     },
     "execution_count": 6,
     "metadata": {},
     "output_type": "execute_result"
    }
   ],
   "source": [
    "data.head()"
   ]
  },
  {
   "cell_type": "code",
   "execution_count": 7,
   "id": "0a8ec4d8-f257-46e1-8e5b-f76a4003d9d3",
   "metadata": {},
   "outputs": [
    {
     "name": "stdout",
     "output_type": "stream",
     "text": [
      "Species\n",
      "Iris-versicolor    50\n",
      "Iris-virginica     50\n",
      "Iris-setosa        49\n",
      "Name: count, dtype: int64\n"
     ]
    }
   ],
   "source": [
    "print(data['Species'].value_counts())"
   ]
  },
  {
   "cell_type": "code",
   "execution_count": 9,
   "id": "d7a72fb7-0720-45d2-a501-480aacc5d156",
   "metadata": {},
   "outputs": [],
   "source": [
    "# Create data subsets for different species\n",
    "versicolor = data[data['Species'] == 'Iris-versicolor']\n",
    "virginica = data[data['Species'] == 'Iris-virginica']\n",
    "setosa = data[data['Species'] == 'Iris-setosa']"
   ]
  },
  {
   "cell_type": "code",
   "execution_count": 10,
   "id": "b1be1e60-5517-4d9e-a3f0-fd14511089a4",
   "metadata": {},
   "outputs": [
    {
     "name": "stdout",
     "output_type": "stream",
     "text": [
      "   SepalLength  SepalWidth  PetalLength  PetalWidth      Species\n",
      "0          4.9         3.0          1.4         0.2  Iris-setosa\n",
      "1          4.7         3.2          1.3         0.2  Iris-setosa\n",
      "2          4.6         3.1          1.5         0.2  Iris-setosa\n",
      "3          5.0         3.6          1.4         0.2  Iris-setosa\n",
      "4          5.4         3.9          1.7         0.4  Iris-setosa\n",
      "    SepalLength  SepalWidth  PetalLength  PetalWidth          Species\n",
      "94          5.7         3.0          4.2         1.2  Iris-versicolor\n",
      "95          5.7         2.9          4.2         1.3  Iris-versicolor\n",
      "96          6.2         2.9          4.3         1.3  Iris-versicolor\n",
      "97          5.1         2.5          3.0         1.1  Iris-versicolor\n",
      "98          5.7         2.8          4.1         1.3  Iris-versicolor\n"
     ]
    }
   ],
   "source": [
    "# Merge two subsets\n",
    "merged_data = pd.concat([setosa, versicolor])\n",
    "\n",
    "print(merged_data.head())\n",
    "print(merged_data.tail())"
   ]
  },
  {
   "cell_type": "code",
   "execution_count": 12,
   "id": "0e4c19cf-0452-41b7-9de4-093dcfb12c31",
   "metadata": {},
   "outputs": [
    {
     "name": "stdout",
     "output_type": "stream",
     "text": [
      "    SepalLength  SepalWidth  PetalLength  PetalWidth      Species\n",
      "21          4.6         3.6          1.0         0.2  Iris-setosa\n",
      "12          4.3         3.0          1.1         0.1  Iris-setosa\n",
      "34          5.0         3.2          1.2         0.2  Iris-setosa\n",
      "13          5.8         4.0          1.2         0.2  Iris-setosa\n",
      "37          4.4         3.0          1.3         0.2  Iris-setosa\n",
      "     SepalLength  SepalWidth  PetalLength  PetalWidth         Species\n",
      "130          7.9         3.8          6.4         2.0  Iris-virginica\n",
      "104          7.6         3.0          6.6         2.1  Iris-virginica\n",
      "121          7.7         2.8          6.7         2.0  Iris-virginica\n",
      "116          7.7         3.8          6.7         2.2  Iris-virginica\n",
      "117          7.7         2.6          6.9         2.3  Iris-virginica\n"
     ]
    }
   ],
   "source": [
    "# Sort Data Petal Length\n",
    "sorted_data = data.sort_values(by='PetalLength', ascending=True)\n",
    "print(sorted_data.head())\n",
    "print(sorted_data.tail())"
   ]
  },
  {
   "cell_type": "code",
   "execution_count": 13,
   "id": "6c76f5fc-f536-4713-be67-3ea7a5483a21",
   "metadata": {},
   "outputs": [
    {
     "name": "stdout",
     "output_type": "stream",
     "text": [
      "                       0            1            2            3            4\n",
      "SepalLength          4.9          4.7          4.6          5.0          5.4\n",
      "SepalWidth           3.0          3.2          3.1          3.6          3.9\n",
      "PetalLength          1.4          1.3          1.5          1.4          1.7\n",
      "PetalWidth           0.2          0.2          0.2          0.2          0.4\n",
      "Species      Iris-setosa  Iris-setosa  Iris-setosa  Iris-setosa  Iris-setosa\n"
     ]
    }
   ],
   "source": [
    "# Transposing Data\n",
    "transposed_data = data.head().transpose()\n",
    "print(transposed_data)"
   ]
  },
  {
   "cell_type": "code",
   "execution_count": 14,
   "id": "46889230-8d9e-485e-8ce8-5cc5f85ae7b9",
   "metadata": {},
   "outputs": [
    {
     "name": "stdout",
     "output_type": "stream",
     "text": [
      "       Species     variable  value\n",
      "0  Iris-setosa  SepalLength    4.9\n",
      "1  Iris-setosa  SepalLength    4.7\n",
      "2  Iris-setosa  SepalLength    4.6\n",
      "3  Iris-setosa  SepalLength    5.0\n",
      "4  Iris-setosa  SepalLength    5.4\n"
     ]
    }
   ],
   "source": [
    "# Melting Data to long format\n",
    "melted_data = pd.melt(data, id_vars=['Species'],\n",
    "                      value_vars=['SepalLength', 'SepalWidth', 'PetalLength', 'PetalWidth'])\n",
    "print(melted_data.head())"
   ]
  },
  {
   "cell_type": "code",
   "execution_count": 16,
   "id": "10124896-d0e2-42ab-a4c1-786be9cbd756",
   "metadata": {},
   "outputs": [
    {
     "name": "stdout",
     "output_type": "stream",
     "text": [
      "variable         PetalLength  PetalWidth  SepalLength  SepalWidth\n",
      "Species                                                          \n",
      "Iris-setosa         1.465306    0.244898     5.004082    3.416327\n",
      "Iris-versicolor     4.260000    1.326000     5.936000    2.770000\n",
      "Iris-virginica      5.552000    2.026000     6.588000    2.974000\n"
     ]
    }
   ],
   "source": [
    "# Casting data to wide format\n",
    "wide_data = melted_data.pivot_table(index='Species', columns='variable',\n",
    "                                    values='value', aggfunc='mean')\n",
    "print(wide_data)"
   ]
  }
 ],
 "metadata": {
  "kernelspec": {
   "display_name": "Python 3 (ipykernel)",
   "language": "python",
   "name": "python3"
  },
  "language_info": {
   "codemirror_mode": {
    "name": "ipython",
    "version": 3
   },
   "file_extension": ".py",
   "mimetype": "text/x-python",
   "name": "python",
   "nbconvert_exporter": "python",
   "pygments_lexer": "ipython3",
   "version": "3.9.10"
  }
 },
 "nbformat": 4,
 "nbformat_minor": 5
}
