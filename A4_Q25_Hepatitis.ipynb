{
 "cells": [
  {
   "cell_type": "code",
   "execution_count": 1,
   "id": "e6dc44f2-eb06-40dd-af11-9713607cd21c",
   "metadata": {},
   "outputs": [
    {
     "data": {
      "text/plain": [
       "'\\nPerform the following operations using Python on Hepatitis Dataset.  \\na. Create data subsets for different sex.  \\nb. Merge two subsets  \\nc. Sort Data using age, SGOT, PROTIME.  \\nd. Transposing Data  \\ne. Melting Data to long format  \\nf. Casting data to wide format\\n'"
      ]
     },
     "execution_count": 1,
     "metadata": {},
     "output_type": "execute_result"
    }
   ],
   "source": [
    "'''\n",
    "Perform the following operations using Python on Hepatitis Dataset.  \n",
    "a. Create data subsets for different sex.  \n",
    "b. Merge two subsets  \n",
    "c. Sort Data using age, SGOT, PROTIME.  \n",
    "d. Transposing Data  \n",
    "e. Melting Data to long format  \n",
    "f. Casting data to wide format\n",
    "'''"
   ]
  },
  {
   "cell_type": "code",
   "execution_count": 2,
   "id": "645a7f3e-6d04-4e04-952c-2b5ba9e0563d",
   "metadata": {},
   "outputs": [],
   "source": [
    "import pandas as pd"
   ]
  },
  {
   "cell_type": "code",
   "execution_count": 6,
   "id": "6fd0b899-35df-4768-b6f7-876a1023d1c6",
   "metadata": {},
   "outputs": [],
   "source": [
    "data = pd.read_csv(r'DSBDALExam DataSets\\Hepatitis\\hepatitis.csv')"
   ]
  },
  {
   "cell_type": "code",
   "execution_count": 7,
   "id": "0c50f05e-4fc9-46f3-8000-ea8ebdad4f6d",
   "metadata": {},
   "outputs": [
    {
     "data": {
      "text/html": [
       "<div>\n",
       "<style scoped>\n",
       "    .dataframe tbody tr th:only-of-type {\n",
       "        vertical-align: middle;\n",
       "    }\n",
       "\n",
       "    .dataframe tbody tr th {\n",
       "        vertical-align: top;\n",
       "    }\n",
       "\n",
       "    .dataframe thead th {\n",
       "        text-align: right;\n",
       "    }\n",
       "</style>\n",
       "<table border=\"1\" class=\"dataframe\">\n",
       "  <thead>\n",
       "    <tr style=\"text-align: right;\">\n",
       "      <th></th>\n",
       "      <th>2</th>\n",
       "      <th>30</th>\n",
       "      <th>2.1</th>\n",
       "      <th>1</th>\n",
       "      <th>2.2</th>\n",
       "      <th>2.3</th>\n",
       "      <th>2.4</th>\n",
       "      <th>2.5</th>\n",
       "      <th>1.1</th>\n",
       "      <th>2.6</th>\n",
       "      <th>2.7</th>\n",
       "      <th>2.8</th>\n",
       "      <th>2.9</th>\n",
       "      <th>2.10</th>\n",
       "      <th>1.00</th>\n",
       "      <th>85</th>\n",
       "      <th>18</th>\n",
       "      <th>4.0</th>\n",
       "      <th>?</th>\n",
       "      <th>1.2</th>\n",
       "    </tr>\n",
       "  </thead>\n",
       "  <tbody>\n",
       "    <tr>\n",
       "      <th>0</th>\n",
       "      <td>2</td>\n",
       "      <td>50</td>\n",
       "      <td>1</td>\n",
       "      <td>1</td>\n",
       "      <td>2</td>\n",
       "      <td>1</td>\n",
       "      <td>2</td>\n",
       "      <td>2</td>\n",
       "      <td>1</td>\n",
       "      <td>2</td>\n",
       "      <td>2</td>\n",
       "      <td>2</td>\n",
       "      <td>2</td>\n",
       "      <td>2</td>\n",
       "      <td>0.90</td>\n",
       "      <td>135</td>\n",
       "      <td>42</td>\n",
       "      <td>3.5</td>\n",
       "      <td>?</td>\n",
       "      <td>1</td>\n",
       "    </tr>\n",
       "    <tr>\n",
       "      <th>1</th>\n",
       "      <td>2</td>\n",
       "      <td>78</td>\n",
       "      <td>1</td>\n",
       "      <td>2</td>\n",
       "      <td>2</td>\n",
       "      <td>1</td>\n",
       "      <td>2</td>\n",
       "      <td>2</td>\n",
       "      <td>2</td>\n",
       "      <td>2</td>\n",
       "      <td>2</td>\n",
       "      <td>2</td>\n",
       "      <td>2</td>\n",
       "      <td>2</td>\n",
       "      <td>0.70</td>\n",
       "      <td>96</td>\n",
       "      <td>32</td>\n",
       "      <td>4.0</td>\n",
       "      <td>?</td>\n",
       "      <td>1</td>\n",
       "    </tr>\n",
       "    <tr>\n",
       "      <th>2</th>\n",
       "      <td>2</td>\n",
       "      <td>31</td>\n",
       "      <td>1</td>\n",
       "      <td>?</td>\n",
       "      <td>1</td>\n",
       "      <td>2</td>\n",
       "      <td>2</td>\n",
       "      <td>2</td>\n",
       "      <td>2</td>\n",
       "      <td>2</td>\n",
       "      <td>2</td>\n",
       "      <td>2</td>\n",
       "      <td>2</td>\n",
       "      <td>2</td>\n",
       "      <td>0.70</td>\n",
       "      <td>46</td>\n",
       "      <td>52</td>\n",
       "      <td>4.0</td>\n",
       "      <td>80</td>\n",
       "      <td>1</td>\n",
       "    </tr>\n",
       "    <tr>\n",
       "      <th>3</th>\n",
       "      <td>2</td>\n",
       "      <td>34</td>\n",
       "      <td>1</td>\n",
       "      <td>2</td>\n",
       "      <td>2</td>\n",
       "      <td>2</td>\n",
       "      <td>2</td>\n",
       "      <td>2</td>\n",
       "      <td>2</td>\n",
       "      <td>2</td>\n",
       "      <td>2</td>\n",
       "      <td>2</td>\n",
       "      <td>2</td>\n",
       "      <td>2</td>\n",
       "      <td>1.00</td>\n",
       "      <td>?</td>\n",
       "      <td>200</td>\n",
       "      <td>4.0</td>\n",
       "      <td>?</td>\n",
       "      <td>1</td>\n",
       "    </tr>\n",
       "    <tr>\n",
       "      <th>4</th>\n",
       "      <td>2</td>\n",
       "      <td>34</td>\n",
       "      <td>1</td>\n",
       "      <td>2</td>\n",
       "      <td>2</td>\n",
       "      <td>2</td>\n",
       "      <td>2</td>\n",
       "      <td>2</td>\n",
       "      <td>2</td>\n",
       "      <td>2</td>\n",
       "      <td>2</td>\n",
       "      <td>2</td>\n",
       "      <td>2</td>\n",
       "      <td>2</td>\n",
       "      <td>0.90</td>\n",
       "      <td>95</td>\n",
       "      <td>28</td>\n",
       "      <td>4.0</td>\n",
       "      <td>75</td>\n",
       "      <td>1</td>\n",
       "    </tr>\n",
       "  </tbody>\n",
       "</table>\n",
       "</div>"
      ],
      "text/plain": [
       "   2  30  2.1  1  2.2 2.3 2.4 2.5 1.1 2.6 2.7 2.8 2.9 2.10  1.00   85   18  \\\n",
       "0  2  50    1  1    2   1   2   2   1   2   2   2   2    2  0.90  135   42   \n",
       "1  2  78    1  2    2   1   2   2   2   2   2   2   2    2  0.70   96   32   \n",
       "2  2  31    1  ?    1   2   2   2   2   2   2   2   2    2  0.70   46   52   \n",
       "3  2  34    1  2    2   2   2   2   2   2   2   2   2    2  1.00    ?  200   \n",
       "4  2  34    1  2    2   2   2   2   2   2   2   2   2    2  0.90   95   28   \n",
       "\n",
       "   4.0   ?  1.2  \n",
       "0  3.5   ?    1  \n",
       "1  4.0   ?    1  \n",
       "2  4.0  80    1  \n",
       "3  4.0   ?    1  \n",
       "4  4.0  75    1  "
      ]
     },
     "execution_count": 7,
     "metadata": {},
     "output_type": "execute_result"
    }
   ],
   "source": [
    "data.head()"
   ]
  },
  {
   "cell_type": "code",
   "execution_count": 8,
   "id": "04f3591e-dd79-4413-98fc-ebb028eb6335",
   "metadata": {},
   "outputs": [],
   "source": [
    "# Set columns names correctly\n",
    "data.columns = ['Class', 'AGE', 'SEX', 'STEROID', 'ANTIVIRALS', 'FATIGUE', 'MALAISE', 'ANOREXIA',\n",
    "                'LIVER_BIG', 'LIVER_FIRM', 'SPLEEN_PALPABLE', 'SPIDERS', 'ASCITES', 'VARICES',\n",
    "                'BILIRUBIN', 'ALK_PHOSPHATE', 'SGOT', 'ALBUMIN', 'PROTIME', 'HISTOLOGY']"
   ]
  },
  {
   "cell_type": "code",
   "execution_count": 9,
   "id": "bfb6c17c-3f9d-4c0a-9cbb-231489b3aef0",
   "metadata": {},
   "outputs": [
    {
     "name": "stdout",
     "output_type": "stream",
     "text": [
      "Male Data:\n",
      "    Class  AGE  SEX STEROID  ANTIVIRALS FATIGUE MALAISE ANOREXIA LIVER_BIG  \\\n",
      "0      2   50    1       1           2       1       2        2         1   \n",
      "1      2   78    1       2           2       1       2        2         2   \n",
      "2      2   31    1       ?           1       2       2        2         2   \n",
      "3      2   34    1       2           2       2       2        2         2   \n",
      "4      2   34    1       2           2       2       2        2         2   \n",
      "\n",
      "  LIVER_FIRM SPLEEN_PALPABLE SPIDERS ASCITES VARICES BILIRUBIN ALK_PHOSPHATE  \\\n",
      "0          2               2       2       2       2      0.90           135   \n",
      "1          2               2       2       2       2      0.70            96   \n",
      "2          2               2       2       2       2      0.70            46   \n",
      "3          2               2       2       2       2      1.00             ?   \n",
      "4          2               2       2       2       2      0.90            95   \n",
      "\n",
      "  SGOT ALBUMIN PROTIME  HISTOLOGY  \n",
      "0   42     3.5       ?          1  \n",
      "1   32     4.0       ?          1  \n",
      "2   52     4.0      80          1  \n",
      "3  200     4.0       ?          1  \n",
      "4   28     4.0      75          1  \n",
      "Female Data:\n",
      "     Class  AGE  SEX STEROID  ANTIVIRALS FATIGUE MALAISE ANOREXIA LIVER_BIG  \\\n",
      "19      2   22    2       2           1       1       2        2         2   \n",
      "23      2   25    2       1           1       2       2        2         2   \n",
      "26      2   58    2       2           2       1       2        2         2   \n",
      "31      2   41    2       2           1       1       1        1         2   \n",
      "32      2   26    2       1           2       2       2        2         2   \n",
      "\n",
      "   LIVER_FIRM SPLEEN_PALPABLE SPIDERS ASCITES VARICES BILIRUBIN ALK_PHOSPHATE  \\\n",
      "19          2               2       2       2       2      0.90            48   \n",
      "23          2               2       2       2       2      0.40            45   \n",
      "26          1               2       1       2       2      1.40           175   \n",
      "31          2               2       2       2       2      0.70            81   \n",
      "32          1               2       2       2       2      0.50           135   \n",
      "\n",
      "   SGOT ALBUMIN PROTIME  HISTOLOGY  \n",
      "19   20     4.2      64          1  \n",
      "23   18     4.3      70          1  \n",
      "26   55     2.7      36          1  \n",
      "31   53     5.0      74          1  \n",
      "32   29     3.8      60          1  \n"
     ]
    }
   ],
   "source": [
    "# Create data subsets for different sex\n",
    "male_data = data[data['SEX'] == 1]    # assuming 1 = male\n",
    "female_data = data[data['SEX'] == 2]  # assuming 2 = female\n",
    "\n",
    "print(\"Male Data:\\n\", male_data.head())\n",
    "print(\"Female Data:\\n\", female_data.head())"
   ]
  },
  {
   "cell_type": "code",
   "execution_count": 10,
   "id": "7f65fcc0-09df-4407-ae35-74509225aa37",
   "metadata": {},
   "outputs": [
    {
     "name": "stdout",
     "output_type": "stream",
     "text": [
      "Merged Data:\n",
      "    Class  AGE  SEX STEROID  ANTIVIRALS FATIGUE MALAISE ANOREXIA LIVER_BIG  \\\n",
      "0      2   50    1       1           2       1       2        2         1   \n",
      "1      2   78    1       2           2       1       2        2         2   \n",
      "2      2   31    1       ?           1       2       2        2         2   \n",
      "3      2   34    1       2           2       2       2        2         2   \n",
      "4      2   34    1       2           2       2       2        2         2   \n",
      "\n",
      "  LIVER_FIRM SPLEEN_PALPABLE SPIDERS ASCITES VARICES BILIRUBIN ALK_PHOSPHATE  \\\n",
      "0          2               2       2       2       2      0.90           135   \n",
      "1          2               2       2       2       2      0.70            96   \n",
      "2          2               2       2       2       2      0.70            46   \n",
      "3          2               2       2       2       2      1.00             ?   \n",
      "4          2               2       2       2       2      0.90            95   \n",
      "\n",
      "  SGOT ALBUMIN PROTIME  HISTOLOGY  \n",
      "0   42     3.5       ?          1  \n",
      "1   32     4.0       ?          1  \n",
      "2   52     4.0      80          1  \n",
      "3  200     4.0       ?          1  \n",
      "4   28     4.0      75          1  \n"
     ]
    }
   ],
   "source": [
    "# Merge the male and female data back\n",
    "merged_data = pd.concat([male_data, female_data], axis=0)\n",
    "\n",
    "print(\"Merged Data:\\n\", merged_data.head())"
   ]
  },
  {
   "cell_type": "code",
   "execution_count": 11,
   "id": "7f22be7a-e277-4ea3-a494-3d0f14f90127",
   "metadata": {},
   "outputs": [
    {
     "name": "stdout",
     "output_type": "stream",
     "text": [
      "     Class  AGE  SEX STEROID  ANTIVIRALS FATIGUE MALAISE ANOREXIA LIVER_BIG  \\\n",
      "109      2    7    1       2           2       2       2        2         2   \n",
      "36       2   20    2       1           2       1       1        1         1   \n",
      "120      2   20    1       1           2       1       1        1         2   \n",
      "147      2   20    1       1           2       2       2        2         2   \n",
      "19       2   22    2       2           1       1       2        2         2   \n",
      "\n",
      "    LIVER_FIRM SPLEEN_PALPABLE SPIDERS ASCITES VARICES BILIRUBIN  \\\n",
      "109          1               1       2       2       2      0.70   \n",
      "36           1               1       1       2       2      2.30   \n",
      "120          2               2       1       1       2      1.00   \n",
      "147       <NA>               2       2       2       2      0.90   \n",
      "19           2               2       2       2       2      0.90   \n",
      "\n",
      "    ALK_PHOSPHATE   SGOT ALBUMIN  PROTIME  HISTOLOGY  \n",
      "109           256   25.0     4.2      NaN          2  \n",
      "36            150   68.0     3.9      NaN          1  \n",
      "120           160  118.0     2.9     23.0          2  \n",
      "147            89  152.0     4.0      NaN          2  \n",
      "19             48   20.0     4.2     64.0          1  \n"
     ]
    }
   ],
   "source": [
    "# Since there are missing values ('?'), first replace '?' with NaN and convert numeric columns\n",
    "data.replace('?', pd.NA, inplace=True)\n",
    "\n",
    "# Convert relevant columns to numeric\n",
    "data['AGE'] = pd.to_numeric(data['AGE'], errors='coerce')\n",
    "data['SGOT'] = pd.to_numeric(data['SGOT'], errors='coerce')\n",
    "data['PROTIME'] = pd.to_numeric(data['PROTIME'], errors='coerce')\n",
    "\n",
    "# Sort\n",
    "sorted_data = data.sort_values(by=['AGE', 'SGOT', 'PROTIME'])\n",
    "\n",
    "print(sorted_data.head())"
   ]
  },
  {
   "cell_type": "code",
   "execution_count": 12,
   "id": "acb87472-ea76-4d2e-b2c5-bced560284de",
   "metadata": {},
   "outputs": [
    {
     "name": "stdout",
     "output_type": "stream",
     "text": [
      "           0   1     2   3   4   5   6   7   8   9    ... 144 145 146 147 148  \\\n",
      "Class        2   2     2   2   2   1   2   2   2   2  ...   2   1   1   2   2   \n",
      "AGE         50  78    31  34  34  51  23  39  30  39  ...  31  41  70  20  36   \n",
      "SEX          1   1     1   1   1   1   1   1   1   1  ...   1   1   1   1   1   \n",
      "STEROID      1   2  <NA>   2   2   1   2   2   2   1  ...   1   2   1   1   2   \n",
      "ANTIVIRALS   2   2     1   2   2   2   2   2   2   1  ...   2   2   2   2   2   \n",
      "\n",
      "           149 150 151 152 153  \n",
      "Class        1   2   2   2   1  \n",
      "AGE         46  44  61  53  43  \n",
      "SEX          1   1   1   2   1  \n",
      "STEROID      2   2   1   1   2  \n",
      "ANTIVIRALS   2   2   2   2   2  \n",
      "\n",
      "[5 rows x 154 columns]\n"
     ]
    }
   ],
   "source": [
    "# Transpose the data\n",
    "transposed_data = data.transpose()\n",
    "print(transposed_data.head())"
   ]
  },
  {
   "cell_type": "code",
   "execution_count": 13,
   "id": "8f6e2ba7-ad9e-4d1b-b0e0-4cec0da9075e",
   "metadata": {},
   "outputs": [
    {
     "name": "stdout",
     "output_type": "stream",
     "text": [
      "   Class  SEX Attribute Value\n",
      "0      2    1       AGE    50\n",
      "1      2    1       AGE    78\n",
      "2      2    1       AGE    31\n",
      "3      2    1       AGE    34\n",
      "4      2    1       AGE    34\n"
     ]
    }
   ],
   "source": [
    "# Melting data to long format\n",
    "melted_data = pd.melt(data, \n",
    "                      id_vars=['Class', 'SEX'],\n",
    "                      var_name='Attribute',\n",
    "                      value_name='Value')\n",
    "print(melted_data.head())"
   ]
  },
  {
   "cell_type": "code",
   "execution_count": 14,
   "id": "3d5b5b76-08c4-4f56-a271-f062d6e20929",
   "metadata": {},
   "outputs": [
    {
     "name": "stdout",
     "output_type": "stream",
     "text": [
      "Attribute  Class  SEX AGE ALBUMIN ALK_PHOSPHATE ANOREXIA ANTIVIRALS ASCITES  \\\n",
      "0              1    1  51     3.8           280        1          2       2   \n",
      "1              2    1  50     3.5           135        2          2       2   \n",
      "2              2    2  22     4.2            48        2          1       2   \n",
      "\n",
      "Attribute BILIRUBIN FATIGUE HISTOLOGY LIVER_BIG LIVER_FIRM MALAISE PROTIME  \\\n",
      "0              2.30       1         1         2          2       2    40.0   \n",
      "1              0.90       1         1         1          2       2    80.0   \n",
      "2              0.90       1         1         2          2       2    64.0   \n",
      "\n",
      "Attribute  SGOT SPIDERS SPLEEN_PALPABLE STEROID VARICES  \n",
      "0          98.0       1               1       1       2  \n",
      "1          42.0       2               2       1       2  \n",
      "2          20.0       2               2       2       2  \n"
     ]
    }
   ],
   "source": [
    "# Casting data back to wide format\n",
    "wide_data = melted_data.pivot_table(index=['Class', 'SEX'],\n",
    "                                    columns='Attribute',\n",
    "                                    values='Value',\n",
    "                                    aggfunc='first').reset_index()\n",
    "print(wide_data.head())"
   ]
  }
 ],
 "metadata": {
  "kernelspec": {
   "display_name": "Python 3 (ipykernel)",
   "language": "python",
   "name": "python3"
  },
  "language_info": {
   "codemirror_mode": {
    "name": "ipython",
    "version": 3
   },
   "file_extension": ".py",
   "mimetype": "text/x-python",
   "name": "python",
   "nbconvert_exporter": "python",
   "pygments_lexer": "ipython3",
   "version": "3.9.10"
  }
 },
 "nbformat": 4,
 "nbformat_minor": 5
}
