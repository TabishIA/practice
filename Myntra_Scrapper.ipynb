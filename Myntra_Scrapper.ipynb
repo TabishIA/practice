{
 "cells": [
  {
   "cell_type": "code",
   "execution_count": 10,
   "id": "a7210cc4-f07c-4865-8615-f80c8dff130b",
   "metadata": {},
   "outputs": [],
   "source": [
    "from bs4 import BeautifulSoup as bs\n",
    "from selenium import webdriver\n",
    "from selenium.webdriver.chrome.options import Options\n",
    "import csv\n",
    "import time"
   ]
  },
  {
   "cell_type": "code",
   "execution_count": 11,
   "id": "a8dfe218-5c31-444e-b521-3b452f9695a9",
   "metadata": {},
   "outputs": [],
   "source": [
    "# Set up headless browser\n",
    "options = Options()\n",
    "options.headless = True\n",
    "driver = webdriver.Chrome(options=options)"
   ]
  },
  {
   "cell_type": "code",
   "execution_count": 12,
   "id": "32f787cd-8057-47de-a295-ed3ccc0984ca",
   "metadata": {},
   "outputs": [],
   "source": [
    "# URL of myntra product reviews\n",
    "url = 'https://www.myntra.com/reviews/25841290'\n",
    "driver.get(url)\n",
    "time.sleep(10)\n",
    "\n",
    "# Parse the page\n",
    "soup = bs(driver.page_source, 'html.parser')\n",
    "\n",
    "# Find all review blocks\n",
    "review_blocks = soup.find_all('div', class_='user-review-userReviewWrapper')\n",
    "\n",
    "data = []\n",
    "for block in review_blocks:\n",
    "    rating_tag = block.find('span', class_='user-review-starRating')\n",
    "    rating = rating_tag.get_text(strip=True)[0] if rating_tag else ''\n",
    "\n",
    "    review_text_tag = block.find('div', class_='user-review-reviewTextWrapper')\n",
    "    review_text = review_text_tag.get_text(strip=True) if review_text_tag else ''\n",
    "\n",
    "    name_tag = block.find('div', class_='user-review-left')\n",
    "    name = name_tag.find('span').get_text(strip=True) if name_tag else ''\n",
    "\n",
    "    data.append([name, rating, review_text])\n",
    "\n",
    "# Save to CSV\n",
    "with open(\"myntra_reviews.csv\", 'w', newline='', encoding='utf-8') as file:\n",
    "    writer = csv.writer(file)\n",
    "    writer.writerow(['Name', 'Rating', 'Review'])\n",
    "    writer.writerows(data)\n",
    "\n",
    "driver.quit()"
   ]
  }
 ],
 "metadata": {
  "kernelspec": {
   "display_name": "Python 3 (ipykernel)",
   "language": "python",
   "name": "python3"
  },
  "language_info": {
   "codemirror_mode": {
    "name": "ipython",
    "version": 3
   },
   "file_extension": ".py",
   "mimetype": "text/x-python",
   "name": "python",
   "nbconvert_exporter": "python",
   "pygments_lexer": "ipython3",
   "version": "3.9.10"
  }
 },
 "nbformat": 4,
 "nbformat_minor": 5
}
