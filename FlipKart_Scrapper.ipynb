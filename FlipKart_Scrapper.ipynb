{
 "cells": [
  {
   "cell_type": "code",
   "execution_count": 1,
   "id": "0347e610-b5e9-47b5-8ae9-d908190d1d6a",
   "metadata": {},
   "outputs": [],
   "source": [
    "from bs4 import BeautifulSoup\n",
    "from selenium import webdriver\n",
    "from selenium.webdriver.chrome.options import Options\n",
    "import time\n",
    "import csv"
   ]
  },
  {
   "cell_type": "code",
   "execution_count": 2,
   "id": "66b9519d-85cf-410c-b2a5-99fddee1fca8",
   "metadata": {},
   "outputs": [],
   "source": [
    "options = Options()"
   ]
  },
  {
   "cell_type": "code",
   "execution_count": 4,
   "id": "9f0b1ecc-042c-4708-93bd-7b3944339771",
   "metadata": {},
   "outputs": [
    {
     "ename": "AttributeError",
     "evalue": "'NoneType' object has no attribute 'find'",
     "output_type": "error",
     "traceback": [
      "\u001b[1;31m---------------------------------------------------------------------------\u001b[0m",
      "\u001b[1;31mAttributeError\u001b[0m                            Traceback (most recent call last)",
      "Cell \u001b[1;32mIn[4], line 21\u001b[0m\n\u001b[0;32m     19\u001b[0m \u001b[38;5;66;03m#title = titles[i].get_text(strip=True)\u001b[39;00m\n\u001b[0;32m     20\u001b[0m rating \u001b[38;5;241m=\u001b[39m ratings[i]\u001b[38;5;241m.\u001b[39mtext[\u001b[38;5;241m0\u001b[39m] \u001b[38;5;28;01mif\u001b[39;00m i \u001b[38;5;241m<\u001b[39m \u001b[38;5;28mlen\u001b[39m(ratings) \u001b[38;5;28;01melse\u001b[39;00m \u001b[38;5;124m'\u001b[39m\u001b[38;5;124m'\u001b[39m\n\u001b[1;32m---> 21\u001b[0m body_div \u001b[38;5;241m=\u001b[39m \u001b[43mbodies\u001b[49m\u001b[43m[\u001b[49m\u001b[43mi\u001b[49m\u001b[43m]\u001b[49m\u001b[38;5;241;43m.\u001b[39;49m\u001b[43mfind\u001b[49m\u001b[43m(\u001b[49m\u001b[38;5;124;43m'\u001b[39;49m\u001b[38;5;124;43mdiv\u001b[39;49m\u001b[38;5;124;43m'\u001b[39;49m\u001b[43m)\u001b[49m\u001b[38;5;241;43m.\u001b[39;49m\u001b[43mfind\u001b[49m(\u001b[38;5;124m'\u001b[39m\u001b[38;5;124mdiv\u001b[39m\u001b[38;5;124m'\u001b[39m) \u001b[38;5;28;01mif\u001b[39;00m i \u001b[38;5;241m<\u001b[39m \u001b[38;5;28mlen\u001b[39m(bodies) \u001b[38;5;28;01melse\u001b[39;00m \u001b[38;5;124m'\u001b[39m\u001b[38;5;124m'\u001b[39m\n\u001b[0;32m     22\u001b[0m body \u001b[38;5;241m=\u001b[39m body_div\u001b[38;5;241m.\u001b[39mget_text(strip\u001b[38;5;241m=\u001b[39m\u001b[38;5;28;01mTrue\u001b[39;00m) \u001b[38;5;28;01mif\u001b[39;00m body_div \u001b[38;5;28;01melse\u001b[39;00m \u001b[38;5;124m'\u001b[39m\u001b[38;5;124m'\u001b[39m\n\u001b[0;32m     23\u001b[0m data\u001b[38;5;241m.\u001b[39mappend([name, title, rating, body])\n",
      "\u001b[1;31mAttributeError\u001b[0m: 'NoneType' object has no attribute 'find'"
     ]
    }
   ],
   "source": [
    "options.headless = True\n",
    "driver = webdriver.Chrome(options=options)\n",
    "\n",
    "driver.get('https://www.flipkart.com/nothing-phone-2a-5g-blue-128-gb/product-reviews/itm85c6bca5edadc?pid=MOBHY8KMDGZNWH4G&lid=LSTMOBHY8KMDGZNWH4GPMEHQG&marketplace=FLIPKART')\n",
    "time.sleep(5)\n",
    "\n",
    "soup = BeautifulSoup(driver.page_source, 'html.parser')\n",
    "\n",
    "# Find all review blocks\n",
    "names = soup.find_all('p', class_='_2NsDsF AwS1CA')\n",
    "titles = soup.find_all('p', class_='z9E0IG')\n",
    "ratings = soup.find_all('div', class_='XQDdHH Ga3i8K')\n",
    "bodies = soup.find_all('div', class_='ZmyHeo')\n",
    "\n",
    "# Prepare data\n",
    "data = []\n",
    "for i in range(len(titles)):\n",
    "    name = names[i].get_text(strip=True) if i < len(names) else ''\n",
    "    title = titles[i].get_text(strip=True)\n",
    "    rating = ratings[i].text[0] if i < len(ratings) else ''\n",
    "    body_div = bodies[i].find('div').find('div') if i < len(bodies) else ''\n",
    "    body = body_div.get_text(strip=True) if body_div else ''\n",
    "    data.append([name, title, rating, body])\n",
    "\n",
    "# Write to CSV\n",
    "with open('flipkart_reviews_detailed.csv', 'w', newline='', encoding='utf-8') as file:\n",
    "    writer = csv.writer(file)\n",
    "    writer.writerow(['Name', 'Title', 'Rating', 'Body'])\n",
    "    writer.writerows(data)\n",
    "\n",
    "driver.quit()"
   ]
  },
  {
   "cell_type": "code",
   "execution_count": null,
   "id": "9ddaad58-9717-406a-a668-c87a59fe97ec",
   "metadata": {},
   "outputs": [],
   "source": []
  }
 ],
 "metadata": {
  "kernelspec": {
   "display_name": "Python 3 (ipykernel)",
   "language": "python",
   "name": "python3"
  },
  "language_info": {
   "codemirror_mode": {
    "name": "ipython",
    "version": 3
   },
   "file_extension": ".py",
   "mimetype": "text/x-python",
   "name": "python",
   "nbconvert_exporter": "python",
   "pygments_lexer": "ipython3",
   "version": "3.9.10"
  }
 },
 "nbformat": 4,
 "nbformat_minor": 5
}
