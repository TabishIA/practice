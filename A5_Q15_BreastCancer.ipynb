{
 "cells": [
  {
   "cell_type": "code",
   "execution_count": 1,
   "id": "ee5a6e3d-c1e4-4361-8796-cfbc9ee67946",
   "metadata": {},
   "outputs": [
    {
     "data": {
      "text/plain": [
       "'\\nPerform the following operations using Python on Breast Cancer data sets  \\ni. Data cleaning(Remove NA, ?, Negative values etc.)  \\nj. Error correcting(Outlier detection and removal)  \\nk. Data transformation   \\nl. Build Data model using regression and Naïve Bayes methods and compare \\naccuracy of benign and malignant tumors in Breast Cancer Dataset.  \\n'"
      ]
     },
     "execution_count": 1,
     "metadata": {},
     "output_type": "execute_result"
    }
   ],
   "source": [
    "'''\n",
    "Perform the following operations using Python on Breast Cancer data sets  \n",
    "i. Data cleaning(Remove NA, ?, Negative values etc.)  \n",
    "j. Error correcting(Outlier detection and removal)  \n",
    "k. Data transformation   \n",
    "l. Build Data model using regression and Naïve Bayes methods and compare \n",
    "accuracy of benign and malignant tumors in Breast Cancer Dataset.  \n",
    "'''"
   ]
  },
  {
   "cell_type": "code",
   "execution_count": 17,
   "id": "d9a24b5e-41eb-4a1c-8fda-21000bb24a32",
   "metadata": {},
   "outputs": [],
   "source": [
    "import pandas as pd\n",
    "import numpy as np\n",
    "from sklearn.preprocessing import StandardScaler\n",
    "from sklearn.model_selection import train_test_split\n",
    "from sklearn.naive_bayes import GaussianNB\n",
    "from sklearn.linear_model import LogisticRegression\n",
    "from sklearn.metrics import accuracy_score, classification_report\n",
    "import seaborn as sns\n",
    "import matplotlib.pyplot as plt"
   ]
  },
  {
   "cell_type": "code",
   "execution_count": 18,
   "id": "0821d362-4a77-4f55-9fe5-7a21de00b7d3",
   "metadata": {},
   "outputs": [],
   "source": [
    "data = pd.read_csv('DSBDALExam DataSets\\BreastCancer\\BreastCancerWc.csv')"
   ]
  },
  {
   "cell_type": "code",
   "execution_count": 19,
   "id": "a167a578-8220-4ce4-93b8-db8d14211047",
   "metadata": {},
   "outputs": [
    {
     "data": {
      "text/html": [
       "<div>\n",
       "<style scoped>\n",
       "    .dataframe tbody tr th:only-of-type {\n",
       "        vertical-align: middle;\n",
       "    }\n",
       "\n",
       "    .dataframe tbody tr th {\n",
       "        vertical-align: top;\n",
       "    }\n",
       "\n",
       "    .dataframe thead th {\n",
       "        text-align: right;\n",
       "    }\n",
       "</style>\n",
       "<table border=\"1\" class=\"dataframe\">\n",
       "  <thead>\n",
       "    <tr style=\"text-align: right;\">\n",
       "      <th></th>\n",
       "      <th>1000025</th>\n",
       "      <th>5</th>\n",
       "      <th>1</th>\n",
       "      <th>1.1</th>\n",
       "      <th>1.2</th>\n",
       "      <th>2</th>\n",
       "      <th>1.3</th>\n",
       "      <th>3</th>\n",
       "      <th>1.4</th>\n",
       "      <th>1.5</th>\n",
       "      <th>2.1</th>\n",
       "    </tr>\n",
       "  </thead>\n",
       "  <tbody>\n",
       "    <tr>\n",
       "      <th>0</th>\n",
       "      <td>1002945</td>\n",
       "      <td>5</td>\n",
       "      <td>4</td>\n",
       "      <td>4</td>\n",
       "      <td>5</td>\n",
       "      <td>7</td>\n",
       "      <td>10</td>\n",
       "      <td>3</td>\n",
       "      <td>2</td>\n",
       "      <td>1</td>\n",
       "      <td>2</td>\n",
       "    </tr>\n",
       "    <tr>\n",
       "      <th>1</th>\n",
       "      <td>1015425</td>\n",
       "      <td>3</td>\n",
       "      <td>1</td>\n",
       "      <td>1</td>\n",
       "      <td>1</td>\n",
       "      <td>2</td>\n",
       "      <td>2</td>\n",
       "      <td>3</td>\n",
       "      <td>1</td>\n",
       "      <td>1</td>\n",
       "      <td>2</td>\n",
       "    </tr>\n",
       "    <tr>\n",
       "      <th>2</th>\n",
       "      <td>1016277</td>\n",
       "      <td>6</td>\n",
       "      <td>8</td>\n",
       "      <td>8</td>\n",
       "      <td>1</td>\n",
       "      <td>3</td>\n",
       "      <td>4</td>\n",
       "      <td>3</td>\n",
       "      <td>7</td>\n",
       "      <td>1</td>\n",
       "      <td>2</td>\n",
       "    </tr>\n",
       "    <tr>\n",
       "      <th>3</th>\n",
       "      <td>1017023</td>\n",
       "      <td>4</td>\n",
       "      <td>1</td>\n",
       "      <td>1</td>\n",
       "      <td>3</td>\n",
       "      <td>2</td>\n",
       "      <td>1</td>\n",
       "      <td>3</td>\n",
       "      <td>1</td>\n",
       "      <td>1</td>\n",
       "      <td>2</td>\n",
       "    </tr>\n",
       "    <tr>\n",
       "      <th>4</th>\n",
       "      <td>1017122</td>\n",
       "      <td>8</td>\n",
       "      <td>10</td>\n",
       "      <td>10</td>\n",
       "      <td>8</td>\n",
       "      <td>7</td>\n",
       "      <td>10</td>\n",
       "      <td>9</td>\n",
       "      <td>7</td>\n",
       "      <td>1</td>\n",
       "      <td>4</td>\n",
       "    </tr>\n",
       "  </tbody>\n",
       "</table>\n",
       "</div>"
      ],
      "text/plain": [
       "   1000025  5   1  1.1  1.2  2 1.3  3  1.4  1.5  2.1\n",
       "0  1002945  5   4    4    5  7  10  3    2    1    2\n",
       "1  1015425  3   1    1    1  2   2  3    1    1    2\n",
       "2  1016277  6   8    8    1  3   4  3    7    1    2\n",
       "3  1017023  4   1    1    3  2   1  3    1    1    2\n",
       "4  1017122  8  10   10    8  7  10  9    7    1    4"
      ]
     },
     "execution_count": 19,
     "metadata": {},
     "output_type": "execute_result"
    }
   ],
   "source": [
    "data.head()"
   ]
  },
  {
   "cell_type": "code",
   "execution_count": 20,
   "id": "d79029a1-336b-4ab0-b3e1-0a93f68c329f",
   "metadata": {},
   "outputs": [],
   "source": [
    "# Add proper column names\n",
    "data.columns = [\n",
    "    'ID', 'Clump_Thickness', 'Uniformity_Cell_Size', 'Uniformity_Cell_Shape',\n",
    "    'Marginal_Adhesion', 'Single_Epithelial_Cell_Size', 'Bare_Nuclei',\n",
    "    'Bland_Chromatin', 'Normal_Nucleoli', 'Mitoses', 'Class'\n",
    "]"
   ]
  },
  {
   "cell_type": "code",
   "execution_count": 21,
   "id": "3c9c3a03-9812-4eba-ba48-da54802b434f",
   "metadata": {},
   "outputs": [],
   "source": [
    "# Data Cleaning\n",
    "\n",
    "# Replace '?' with NaN and convert to numeric\n",
    "data['Bare_Nuclei'] = pd.to_numeric(data['Bare_Nuclei'], errors='coerce')\n",
    "\n",
    "# Drop rows with any missing values\n",
    "data = data.dropna()\n",
    "\n",
    "# Remove any negative values \n",
    "data = data[(data >= 0).all(axis=1)]"
   ]
  },
  {
   "cell_type": "code",
   "execution_count": 23,
   "id": "6299f304-7a54-4d3f-90fc-69d05c1efde2",
   "metadata": {},
   "outputs": [],
   "source": [
    "# Error Correction\n",
    "\n",
    "# Z-score method to remove outliers\n",
    "from scipy.stats import zscore\n",
    "z_scores = np.abs(zscore(data.drop(columns=['Class'])))\n",
    "data = data[(z_scores < 3).all(axis=1)]"
   ]
  },
  {
   "cell_type": "code",
   "execution_count": 24,
   "id": "a8e7133b-1b7c-42ba-b27d-bbb6027fd9e2",
   "metadata": {},
   "outputs": [],
   "source": [
    "# Data Transformation\n",
    "X = data.drop('Class', axis=1)\n",
    "y = data['Class']\n",
    "\n",
    "# Standardize features\n",
    "scaler = StandardScaler()\n",
    "X_scaled = scaler.fit_transform(X)"
   ]
  },
  {
   "cell_type": "code",
   "execution_count": 26,
   "id": "3d4d487a-9bce-43e6-b1e7-55991e0cf05a",
   "metadata": {},
   "outputs": [],
   "source": [
    "# Modell Building and Comparison\n",
    "\n",
    "X_train, X_test, y_train, y_test = train_test_split(X_scaled, y, test_size=0.3, random_state=42)\n",
    "\n",
    "# logistic Regression\n",
    "lr_model = LogisticRegression()\n",
    "lr_model.fit(X_train, y_train)\n",
    "lr_model_pred = lr_model.predict(X_test)\n",
    "lr_acc = accuracy_score(y_test, lr_model_pred)\n",
    "\n",
    "# Naive Bayes\n",
    "nb = GaussianNB()\n",
    "nb.fit(X_train, y_train)\n",
    "nb_pred = nb.predict(X_test)\n",
    "nb_acc = accuracy_score(y_test, nb_pred)"
   ]
  },
  {
   "cell_type": "code",
   "execution_count": 28,
   "id": "58115af6-0172-41bb-9916-23049a4df514",
   "metadata": {},
   "outputs": [
    {
     "name": "stdout",
     "output_type": "stream",
     "text": [
      "Logistic Regression Accuracy: 94.29 %\n",
      "Naive Bayes Accuracy: 93.14 %\n",
      "\n",
      "Classification Report (Logistic Regression):\n",
      "               precision    recall  f1-score   support\n",
      "\n",
      "           2       0.97      0.95      0.96       130\n",
      "           4       0.87      0.91      0.89        45\n",
      "\n",
      "    accuracy                           0.94       175\n",
      "   macro avg       0.92      0.93      0.93       175\n",
      "weighted avg       0.94      0.94      0.94       175\n",
      "\n",
      "\n",
      "Classification Report (Naive Bayes):\n",
      "               precision    recall  f1-score   support\n",
      "\n",
      "           2       0.99      0.92      0.95       130\n",
      "           4       0.80      0.98      0.88        45\n",
      "\n",
      "    accuracy                           0.93       175\n",
      "   macro avg       0.90      0.95      0.92       175\n",
      "weighted avg       0.94      0.93      0.93       175\n",
      "\n"
     ]
    }
   ],
   "source": [
    "# Results\n",
    "print(\"Logistic Regression Accuracy:\", round(lr_acc * 100, 2), \"%\")\n",
    "print(\"Naive Bayes Accuracy:\", round(nb_acc * 100, 2), \"%\")\n",
    "\n",
    "print(\"\\nClassification Report (Logistic Regression):\\n\", classification_report(y_test, lr_model_pred))\n",
    "print(\"\\nClassification Report (Naive Bayes):\\n\", classification_report(y_test, nb_pred))"
   ]
  },
  {
   "cell_type": "code",
   "execution_count": null,
   "id": "cac22b1b-32c4-4759-bfba-8ecb58eeae6e",
   "metadata": {},
   "outputs": [],
   "source": []
  }
 ],
 "metadata": {
  "kernelspec": {
   "display_name": "Python 3 (ipykernel)",
   "language": "python",
   "name": "python3"
  },
  "language_info": {
   "codemirror_mode": {
    "name": "ipython",
    "version": 3
   },
   "file_extension": ".py",
   "mimetype": "text/x-python",
   "name": "python",
   "nbconvert_exporter": "python",
   "pygments_lexer": "ipython3",
   "version": "3.9.10"
  }
 },
 "nbformat": 4,
 "nbformat_minor": 5
}
